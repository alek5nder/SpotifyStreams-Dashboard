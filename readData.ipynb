{
 "cells": [
  {
   "cell_type": "code",
   "execution_count": 17,
   "id": "da57515c-53e7-4f9a-9bbd-d5cd4ff7161c",
   "metadata": {},
   "outputs": [
    {
     "name": "stdout",
     "output_type": "stream",
     "text": [
      "  Customer_ID  Gender  Age Married        State  Number_of_Referrals  \\\n",
      "0   19877-DEL    Male   35      No        Delhi                    7   \n",
      "1   58353-MAH  Female   45     Yes  Maharashtra                   14   \n",
      "2   25063-WES    Male   51      No  West Bengal                    4   \n",
      "3   59787-KAR    Male   79      No    Karnataka                    3   \n",
      "4   28544-TAM  Female   80      No   Tamil Nadu                    3   \n",
      "\n",
      "   Tenure_in_Months Value_Deal Phone_Service Multiple_Lines  ...  \\\n",
      "0                27        NaN           Yes             No  ...   \n",
      "1                13        NaN           Yes            Yes  ...   \n",
      "2                35     Deal 5           Yes             No  ...   \n",
      "3                21     Deal 4           Yes             No  ...   \n",
      "4                 8        NaN           Yes             No  ...   \n",
      "\n",
      "    Payment_Method Monthly_Charge Total_Charges Total_Refunds  \\\n",
      "0      Credit Card           65.6        593.30          0.00   \n",
      "1      Credit Card           -4.0        542.40         38.33   \n",
      "2  Bank Withdrawal           73.9        280.85          0.00   \n",
      "3  Bank Withdrawal           98.0       1237.85          0.00   \n",
      "4      Credit Card           83.9        267.40          0.00   \n",
      "\n",
      "  Total_Extra_Data_Charges Total_Long_Distance_Charges Total_Revenue  \\\n",
      "0                        0                      381.51        974.81   \n",
      "1                       10                       96.21        610.28   \n",
      "2                        0                      134.60        415.45   \n",
      "3                        0                      361.66       1599.51   \n",
      "4                        0                       22.14        289.54   \n",
      "\n",
      "  Customer_Status   Churn_Category                   Churn_Reason  \n",
      "0          Stayed              NaN                            NaN  \n",
      "1          Stayed              NaN                            NaN  \n",
      "2         Churned       Competitor  Competitor had better devices  \n",
      "3         Churned  Dissatisfaction        Product dissatisfaction  \n",
      "4         Churned  Dissatisfaction            Network reliability  \n",
      "\n",
      "[5 rows x 32 columns]\n"
     ]
    }
   ],
   "source": [
    "import pandas as pd\n",
    "import numpy as np\n",
    "import matplotlib.pyplot as plt\n",
    "import seaborn as sns\n",
    "from sklearn.model_selection import train_test_split\n",
    "from sklearn.ensemble import RandomForestClassifier\n",
    "from sklearn.metrics import classification_report, confusion_matrix\n",
    "from sklearn.preprocessing import LabelEncoder\n",
    "import joblib\n",
    "\n",
    "# Define the path to the Excel file\n",
    "file_path = r\"D:\\P_BI\\Project no2\\rawData.xlsx\"\n",
    "\n",
    "# Define the correct sheet name to read data from\n",
    "sheet_name = 'churnanalysis vw_customer_data'\n",
    "\n",
    "# Read the data from the specified sheet into a pandas DataFrame\n",
    "data = pd.read_excel(file_path, sheet_name=sheet_name)\n",
    "\n",
    "# Display the first few rows of the fetched data\n",
    "print(data.head())\n"
   ]
  },
  {
   "cell_type": "code",
   "execution_count": 2,
   "id": "de46a3b7-15d4-4c2b-a337-1005ff5ee061",
   "metadata": {},
   "outputs": [
    {
     "name": "stdout",
     "output_type": "stream",
     "text": [
      "C:\\Users\\ajasi\\AppData\\Local\\Programs\\Python\\Python312\\python.exe\n"
     ]
    }
   ],
   "source": [
    "import sys\n",
    "print(sys.executable)"
   ]
  },
  {
   "cell_type": "code",
   "execution_count": 5,
   "id": "6184161f-9610-4314-93f0-2713ce4bd316",
   "metadata": {},
   "outputs": [
    {
     "name": "stdout",
     "output_type": "stream",
     "text": [
      "C:\\Users\\ajasi\\AppData\\Local\\Programs\\Python\\Python312\\Lib\\site-packages\\pandas\n"
     ]
    }
   ],
   "source": [
    "import pandas as pd\n",
    "import os\n",
    "print(os.path.dirname(pd.__file__))\n"
   ]
  },
  {
   "cell_type": "code",
   "execution_count": 16,
   "id": "0af609ac-21b5-4782-ae65-01425f9c5f89",
   "metadata": {},
   "outputs": [
    {
     "name": "stdout",
     "output_type": "stream",
     "text": [
      "['churnanalysis vw_customer_data', 'Arkusz1']\n"
     ]
    }
   ],
   "source": [
    "import pandas as pd\n",
    "\n",
    "# Load the Excel file to check the sheet names\n",
    "excel_file = pd.ExcelFile(r\"D:\\P_BI\\Project no2\\rawData.xlsx\")\n",
    "print(excel_file.sheet_names)\n",
    "\n"
   ]
  },
  {
   "cell_type": "code",
   "execution_count": null,
   "id": "7b81ccbc-6916-4204-be4d-94f43996f0a7",
   "metadata": {},
   "outputs": [],
   "source": []
  }
 ],
 "metadata": {
  "kernelspec": {
   "display_name": "Python 3 (ipykernel)",
   "language": "python",
   "name": "python3"
  },
  "language_info": {
   "codemirror_mode": {
    "name": "ipython",
    "version": 3
   },
   "file_extension": ".py",
   "mimetype": "text/x-python",
   "name": "python",
   "nbconvert_exporter": "python",
   "pygments_lexer": "ipython3",
   "version": "3.12.0"
  }
 },
 "nbformat": 4,
 "nbformat_minor": 5
}
